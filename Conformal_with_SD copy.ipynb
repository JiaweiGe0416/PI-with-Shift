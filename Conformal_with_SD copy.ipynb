{
 "cells": [
  {
   "cell_type": "code",
   "execution_count": 1,
   "id": "49281bb8",
   "metadata": {},
   "outputs": [],
   "source": [
    "import torch\n",
    "import torch.nn as nn # All neural network modules, nn.Linear, nn.Conv2d, BatchNorm, Loss functions\n",
    "import torch.optim as optim # For all Optimization algorithms, SGD, Adam, etc.\n",
    "import torch.nn.functional as F # All functions that don't have any parameters\n",
    "from torch.autograd import Variable\n",
    "\n",
    "from sklearn.metrics.pairwise import rbf_kernel\n",
    "from sklearn.linear_model import LogisticRegression\n",
    "from sklearn.ensemble import RandomForestClassifier\n",
    "from sklearn.preprocessing import PolynomialFeatures\n",
    "from sklearn.linear_model import LinearRegression\n",
    "from sklearn.ensemble import RandomForestRegressor\n",
    "from sklearn.ensemble import GradientBoostingRegressor\n",
    "from quantile_forest import RandomForestQuantileRegressor\n",
    "\n",
    "\n",
    "import cvxpy as cp\n",
    "import numpy as np\n",
    "\n",
    "from numpy import linalg\n",
    "import pandas as pd\n",
    "\n",
    "from scipy.linalg import sqrtm\n",
    "\n",
    "\n",
    "from matplotlib import pyplot as plt\n",
    "\n",
    "import seaborn as sns\n",
    "import matplotlib.patches as patches\n",
    "import matplotlib.lines as lines\n",
    "import warnings"
   ]
  },
  {
   "cell_type": "code",
   "execution_count": 2,
   "id": "6c30a49c",
   "metadata": {},
   "outputs": [],
   "source": [
    "# read the data\n",
    "data = pd.read_csv('airfoil_self_noise.csv', header = None,sep='\\t')\n",
    "Data = data.to_numpy()\n",
    "\n",
    "Data[:,0] = np.log(Data[:,0]) # log transform\n",
    "Data[:,4] = np.log(Data[:,4]) # log transform\n",
    "\n",
    "# def mydata(Data, beta = np.array([-1, 0, 0, 0, 1])):\n",
    "    \n",
    "#     # random split the data from source into two parts: training and testing data\n",
    "#     np.random.shuffle(Data)\n",
    "#     train_idx = int(Data.shape[0] * 0.5)\n",
    "#     Dtrain, Dtest = np.split(Data, [train_idx])\n",
    "    \n",
    "#     # creat the shift data set\n",
    "#     probabilities = np.exp(Dtest[:,0:5].dot(beta)) # Calculate probabilities proportional to w(x) = exp(x^T * beta)\n",
    "#     probabilities /= np.sum(probabilities) # Normalize probabilities\n",
    "    \n",
    "#     sample_size = int(0.25 * len(Dtest)) # Sample 25% of the points from Dtest with replacement\n",
    "#     sample_indices = np.random.choice(len(Dtest), size=sample_size, replace=True, p=probabilities)\n",
    "#     Dshift = Dtest[sample_indices]\n",
    "    \n",
    "#     return Dtrain, Dtest, Dshift\n",
    "\n",
    "\n",
    "def mydata(Data, beta = np.array([-1, 0, 0, 0, 1]), prop = 0.75):\n",
    "    \n",
    "    # random split the data from source into two parts: training and testing data\n",
    "    np.random.shuffle(Data)\n",
    "    train_idx = int(Data.shape[0] * prop)\n",
    "    Dtrain, Dtest = np.split(Data, [train_idx])\n",
    "    \n",
    "    # creat the shift data set\n",
    "    probabilities = np.exp(Dtest[:,0:5].dot(beta)) # Calculate probabilities proportional to w(x) = exp(x^T * beta)\n",
    "    probabilities /= np.sum(probabilities) # Normalize probabilities\n",
    "    \n",
    "    sample_indices = np.random.choice(len(Dtest), size=len(Dtest), replace=True, p=probabilities)\n",
    "    Dshift = Dtest[sample_indices]\n",
    "    \n",
    "    return Dtrain, Dtest, Dshift"
   ]
  },
  {
   "cell_type": "code",
   "execution_count": 3,
   "id": "428f9627",
   "metadata": {},
   "outputs": [],
   "source": [
    "random_seed = 42\n",
    "\n",
    "def prob_est(Dtrain, Dshift, est_type = 'lr'):\n",
    "    X_S = Dtrain[:,0:5]\n",
    "    X_T = Dshift[:,0:5]\n",
    "    n_S = X_S.shape[0]\n",
    "    n_T = X_T.shape[0]\n",
    "    Y_S = np.zeros(n_S).reshape(-1,1)\n",
    "    Y_T = np.ones(n_T).reshape(-1,1)\n",
    "    X_train = np.vstack((X_S, X_T))\n",
    "    Y_train = np.vstack((Y_S, Y_T))\n",
    "  \n",
    "    if est_type == 'lr':\n",
    "        # fit logistic regression\n",
    "        with warnings.catch_warnings():\n",
    "            warnings.simplefilter(\"ignore\")\n",
    "            logistic_model = LogisticRegression(penalty='l2', solver='lbfgs', max_iter=1000,random_state=0) \n",
    "            logistic_model.fit(X_train, Y_train[:,0])\n",
    "\n",
    "        return logistic_model\n",
    "    \n",
    "    if est_type == 'rf':\n",
    "        # fit random forest\n",
    "        rf_model = RandomForestClassifier(n_estimators = 100, random_state=random_seed)\n",
    "        rf_model.fit(X_train, Y_train[:,0])\n",
    "\n",
    "        return rf_model\n",
    "\n",
    "    \n",
    "def ratio_est(model, X):\n",
    "    \n",
    "        prob_1 = model.predict_proba(X)[:,1]\n",
    "        prob_1 = np.clip(prob_1, 0.01, 0.99)\n",
    "        est_ratio = prob_1/(1-prob_1)\n",
    "        \n",
    "        return est_ratio\n",
    "    "
   ]
  },
  {
   "cell_type": "code",
   "execution_count": 4,
   "id": "5067f88d",
   "metadata": {},
   "outputs": [],
   "source": [
    "def weighting_function(model, X_calib, x_test, x):\n",
    "    # Define weighting function here\n",
    "    # all the data should be array\n",
    "    ratio_calib = ratio_est(model, X_calib).sum()\n",
    "    ratio_test = ratio_est(model, x_test)\n",
    "    ratio_sum = ratio_calib + ratio_test\n",
    "    ratio_x = ratio_est(model, x)\n",
    "    return ratio_x/ratio_sum\n",
    "\n",
    "\n",
    "def weighted_quantile(values, weights, quantile):\n",
    "    \n",
    "    \"\"\" Compute the weighted quantile of a 1D numpy array.\n",
    "    \"\"\"\n",
    "    values = np.array(values)\n",
    "    weights = np.array(weights)\n",
    "    \n",
    "    sorter = np.argsort(values)\n",
    "    values = values[sorter]\n",
    "    weights = weights[sorter]\n",
    "    cumulative_weights = np.cumsum(weights)\n",
    "    if cumulative_weights[-1]>= quantile:\n",
    "        idx = np.argmax(cumulative_weights >= quantile)\n",
    "        return values[idx]\n",
    "    else:\n",
    "        return np.infty\n"
   ]
  },
  {
   "cell_type": "code",
   "execution_count": 9,
   "id": "4ce03eaa",
   "metadata": {},
   "outputs": [],
   "source": [
    "def weighted_conformal_cov_width(Dtrain, Dshift, alpha=0.05):\n",
    "    \n",
    "    n = Dshift.shape[0]\n",
    "    cov = []\n",
    "    width = []\n",
    "    \n",
    "    \n",
    "    prob_est_model = prob_est(Dtrain, Dshift, est_type = 'lr')\n",
    "    \n",
    "    # split weighted conformal\n",
    "    D = Dtrain\n",
    "    np.random.shuffle(D)\n",
    "    split_idx = int(D.shape[0] * 0.5)\n",
    "    D1, D2 = np.split(D, [split_idx])\n",
    "    X1 = D1[:,0:5]\n",
    "    y1 = D1[:,-1]\n",
    "    X2 = D2[:,0:5]\n",
    "    y2 = D2[:,-1]\n",
    "    \n",
    "    # Train the model on the first part of the data\n",
    "    model = LinearRegression()\n",
    "    model.fit(X1, y1)\n",
    "    \n",
    "    # Compute the model's predictions for the calibration set\n",
    "    y1_hat = model.predict(X1)\n",
    "    y_calib_pred = model.predict(X2)\n",
    "            \n",
    "    # Calculate the absolute errors on the calibration set\n",
    "    errors_calib = np.abs(y_calib_pred - y2)\n",
    "    \n",
    "    est_error_1 = (y1_hat - y1) ** 2\n",
    "    var_model = RandomForestRegressor(n_estimators = 1000, random_state = 42, max_depth = 30)\n",
    "    var_model.fit(X1, est_error_1)\n",
    "    var_hat = var_model.predict(X2)\n",
    "    sd_calib_pred = var_hat ** 0.5\n",
    "    errors_calib = np.abs(y_calib_pred - y2)/np.clip(sd_calib_pred, 0.001, 1e10)\n",
    "    \n",
    "    for i in range(n):\n",
    "        x_test = Dshift[i,0:5]\n",
    "        x_test = np.array(x_test).reshape(1,-1)\n",
    "        y_test = Dshift[i,5]\n",
    "    \n",
    "    \n",
    "        # Calculate the weights for the calibration set\n",
    "        weights_calib = weighting_function(prob_est_model, X2, x_test, X2)\n",
    "\n",
    "\n",
    "        # Calculate the weighted quantile of the errors\n",
    "        quantile = weighted_quantile(errors_calib, weights_calib, 1 - alpha)\n",
    "\n",
    "        # Now for the test\n",
    "        y_test_pred = model.predict(x_test)\n",
    "        sd_test_pred = var_model.predict(x_test) ** 0.5\n",
    "        \n",
    "        width.append(2*quantile*sd_test_pred)\n",
    "        cov.append((np.abs(y_test - y_test_pred)/sd_test_pred) <= quantile)\n",
    "\n",
    "    \n",
    "    return np.array(cov).mean(), np.array(width).mean()\n"
   ]
  },
  {
   "cell_type": "code",
   "execution_count": 7,
   "id": "d5c39b15",
   "metadata": {},
   "outputs": [],
   "source": [
    "def conformal_test(Data,alpha=0.05, n = 200):\n",
    "    \n",
    "    coverage = []\n",
    "    bandwidth = []\n",
    "    for i in range(n):\n",
    "        Dtrain, Dtest, Dshift = mydata(Data)\n",
    "        cov, bw = weighted_conformal_cov_width(Dtrain, Dshift, alpha)\n",
    "        coverage.append(cov)\n",
    "        bandwidth.append(bw)\n",
    "        print(i, \"is done!\")\n",
    "    return coverage, bandwidth"
   ]
  },
  {
   "cell_type": "code",
   "execution_count": 10,
   "id": "c579342e",
   "metadata": {},
   "outputs": [],
   "source": [
    "alpha = 0.05\n",
    "def run_weighted_conformal(n):\n",
    "    Dtrain, Dtest, Dshift = mydata(Data)\n",
    "    cov, bw = weighted_conformal_cov_width(Dtrain, Dshift, alpha)\n",
    "    return cov, bw\n",
    "\n",
    "from joblib import Parallel, delayed\n",
    "results = Parallel(n_jobs=10)(delayed(run_weighted_conformal)(i) for i in range(20))"
   ]
  },
  {
   "cell_type": "code",
   "execution_count": 11,
   "id": "81744f77",
   "metadata": {},
   "outputs": [],
   "source": [
    "coverage = np.array(results)[:,0]\n",
    "bandwidth = np.array(results)[:,1]"
   ]
  },
  {
   "cell_type": "code",
   "execution_count": 12,
   "id": "0841be48",
   "metadata": {},
   "outputs": [
    {
     "data": {
      "text/plain": [
       "array([22.14886507, 18.67590081, 31.11932432, 19.72992166, 15.07890314,\n",
       "       18.32163157, 21.39077145, 22.65393221, 22.63037555, 17.66941568,\n",
       "       26.85134672, 21.39653577, 20.51255605, 17.91505058, 15.90170911,\n",
       "       18.49251512, 26.44841906, 17.44270734, 23.20795368, 28.54575712])"
      ]
     },
     "execution_count": 12,
     "metadata": {},
     "output_type": "execute_result"
    }
   ],
   "source": [
    "bandwidth"
   ]
  },
  {
   "cell_type": "code",
   "execution_count": 11,
   "id": "8cb155b8",
   "metadata": {},
   "outputs": [
    {
     "data": {
      "text/plain": [
       "Text(0.5, 0, 'Coverage--Weighted conformal')"
      ]
     },
     "execution_count": 11,
     "metadata": {},
     "output_type": "execute_result"
    },
    {
     "data": {
      "image/png": "[encoded data removed]",
      "text/plain": [
       "<Figure size 640x480 with 1 Axes>"
      ]
     },
     "metadata": {},
     "output_type": "display_data"
    }
   ],
   "source": [
    "sns.histplot(np.array(coverage).reshape(-1, 1), kde = True, bins = 30, legend=False)\n",
    "plt.xlabel('Coverage--Weighted conformal')"
   ]
  },
  {
   "cell_type": "code",
   "execution_count": 1,
   "id": "b86210ff",
   "metadata": {},
   "outputs": [
    {
     "ename": "NameError",
     "evalue": "name 'sns' is not defined",
     "output_type": "error",
     "traceback": [
      "\u001b[0;31m---------------------------------------------------------------------------\u001b[0m",
      "\u001b[0;31mNameError\u001b[0m                                 Traceback (most recent call last)",
      "Cell \u001b[0;32mIn[1], line 1\u001b[0m\n\u001b[0;32m----> 1\u001b[0m \u001b[43msns\u001b[49m\u001b[38;5;241m.\u001b[39mhistplot(np\u001b[38;5;241m.\u001b[39marray(bandwidth)\u001b[38;5;241m.\u001b[39mreshape(\u001b[38;5;241m-\u001b[39m\u001b[38;5;241m1\u001b[39m, \u001b[38;5;241m1\u001b[39m), kde \u001b[38;5;241m=\u001b[39m \u001b[38;5;28;01mTrue\u001b[39;00m,bins \u001b[38;5;241m=\u001b[39m \u001b[38;5;241m30\u001b[39m, legend\u001b[38;5;241m=\u001b[39m\u001b[38;5;28;01mFalse\u001b[39;00m)\n\u001b[1;32m      2\u001b[0m plt\u001b[38;5;241m.\u001b[39mxlabel(\u001b[38;5;124m'\u001b[39m\u001b[38;5;124mBandwidth--Weighted conformal\u001b[39m\u001b[38;5;124m'\u001b[39m)\n",
      "\u001b[0;31mNameError\u001b[0m: name 'sns' is not defined"
     ]
    }
   ],
   "source": [
    "sns.histplot(np.array(bandwidth).reshape(-1, 1), kde = True,bins = 30, legend=False)\n",
    "plt.xlabel('Bandwidth--Weighted conformal')"
   ]
  },
  {
   "cell_type": "code",
   "execution_count": 28,
   "id": "a98b9d17",
   "metadata": {},
   "outputs": [
    {
     "data": {
      "text/plain": [
       "4.391388604434692"
      ]
     },
     "execution_count": 28,
     "metadata": {},
     "output_type": "execute_result"
    }
   ],
   "source": [
    "np.sqrt(np.ma.masked_invalid(bandwidth[coverage >= 0.95]).var())"
   ]
  },
  {
   "cell_type": "code",
   "execution_count": 27,
   "id": "aedae0d9",
   "metadata": {},
   "outputs": [
    {
     "data": {
      "text/plain": [
       "0.03600934187930062"
      ]
     },
     "execution_count": 27,
     "metadata": {},
     "output_type": "execute_result"
    }
   ],
   "source": [
    "np.sqrt(coverage.var())"
   ]
  },
  {
   "cell_type": "code",
   "execution_count": 20,
   "id": "df0cf6d7",
   "metadata": {},
   "outputs": [],
   "source": [
    "np.savetxt('Coverage_WC_200.csv', coverage, delimiter=',')\n",
    "np.savetxt('Bandwidth_WC_200.csv', bandwidth, delimiter=',')"
   ]
  }
 ],
 "metadata": {
  "kernelspec": {
   "display_name": "Python 3 (ipykernel)",
   "language": "python",
   "name": "python3"
  },
  "language_info": {
   "codemirror_mode": {
    "name": "ipython",
    "version": 3
   },
   "file_extension": ".py",
   "mimetype": "text/x-python",
   "name": "python",
   "nbconvert_exporter": "python",
   "pygments_lexer": "ipython3",
   "version": "3.10.9"
  }
 },
 "nbformat": 4,
 "nbformat_minor": 5
}
